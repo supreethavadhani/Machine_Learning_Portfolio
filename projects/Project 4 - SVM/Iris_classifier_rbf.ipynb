{
 "cells": [
  {
   "cell_type": "markdown",
   "id": "ea02a050-70e5-41a3-ac77-9da9510eec37",
   "metadata": {},
   "source": [
    "# Iris Classifier"
   ]
  },
  {
   "cell_type": "markdown",
   "id": "4ff4dfe3-a969-492b-8aec-cf741965a9d7",
   "metadata": {},
   "source": [
    "## RBF SVM"
   ]
  },
  {
   "cell_type": "code",
   "execution_count": 8,
   "id": "76cd76da-1416-4aaf-8a43-1ae877343078",
   "metadata": {},
   "outputs": [],
   "source": [
    "import numpy as np\n",
    "import pandas as pd\n",
    "import seaborn as sns\n",
    "import matplotlib.pyplot as plt\n",
    "sns.set(color_codes=True)\n",
    "%matplotlib inline\n",
    "from sklearn import svm\n",
    "from sklearn.model_selection import train_test_split\n",
    "from sklearn.preprocessing import StandardScaler\n",
    "from sklearn.model_selection import cross_val_score,cross_val_predict, GridSearchCV\n",
    "from sklearn.metrics import confusion_matrix\n",
    "from sklearn.metrics import precision_score, recall_score, f1_score\n",
    "from sklearn.pipeline import Pipeline"
   ]
  },
  {
   "cell_type": "code",
   "execution_count": 19,
   "id": "aafee0ff-32bb-478e-8b8e-95108a0c645d",
   "metadata": {},
   "outputs": [],
   "source": [
    "df = sns.load_dataset('iris')\n",
    "\n",
    "col = ['petal_length', 'petal_width', 'species']\n",
    "df.loc[:, col].head()\n",
    "col = ['petal_length', 'petal_width']\n",
    "X = df.loc[:,col]\n",
    "\n",
    "species_to_num = { 'setosa':0,'versicolor':1,'virginica':2 }\n",
    "df['tmp'] = df['species'].map(species_to_num)\n",
    "y = df['tmp']\n",
    "\n",
    "C = 0.5\n",
    "X_train,X_test,y_train,y_test = train_test_split(X,y,train_size=0.8,random_state=0)\n",
    "\n",
    "sc_x = StandardScaler()\n",
    "X_std_train = sc_x.fit_transform(X_train)\n",
    "C = 0.5\n",
    "clf = svm.SVC(kernel = 'rbf', C=C, gamma=0.5)\n",
    "clf.fit(X_std_train,y_train)\n",
    "res = cross_val_score(clf,X_std_train,y_train, cv=10, scoring = 'accuracy')"
   ]
  },
  {
   "cell_type": "code",
   "execution_count": 20,
   "id": "3535f6f3-4879-4c47-ba4a-52bd6cae0f53",
   "metadata": {},
   "outputs": [
    {
     "name": "stdout",
     "output_type": "stream",
     "text": [
      "Precision Score: \t 0.9500\n",
      "Recall Score: \t\t 0.9500\n",
      "F1 Score: \t\t 0.9500\n"
     ]
    }
   ],
   "source": [
    "y_train_pred = cross_val_predict(clf, X_std_train, y_train, cv=3)\n",
    "confusion_matrix(y_train, y_train_pred)\n",
    "\n",
    "print(\"Precision Score: \\t {0:.4f}\".format(precision_score(y_train, \n",
    "                                                           y_train_pred, \n",
    "                                                           average='weighted')))\n",
    "print(\"Recall Score: \\t\\t {0:.4f}\".format(recall_score(y_train,\n",
    "                                                     y_train_pred, \n",
    "                                                     average='weighted')))\n",
    "print(\"F1 Score: \\t\\t {0:.4f}\".format(f1_score(y_train,\n",
    "                                             y_train_pred, \n",
    "                                             average='weighted')))"
   ]
  },
  {
   "cell_type": "code",
   "execution_count": 21,
   "id": "1a9e4415-86ec-4851-9598-21c0173ad876",
   "metadata": {},
   "outputs": [
    {
     "name": "stdout",
     "output_type": "stream",
     "text": [
      "Precision Score: \t 0.8980\n",
      "Recall Score: \t\t 0.8667\n",
      "F1 Score: \t\t 0.8422\n"
     ]
    }
   ],
   "source": [
    "y_test_pred = cross_val_predict(clf, sc_x.transform(X_test), y_test, cv=3)\n",
    "\n",
    "confusion_matrix(y_test, y_test_pred)\n",
    "\n",
    "print(\"Precision Score: \\t {0:.4f}\".format(precision_score(y_test, \n",
    "                                                           y_test_pred, \n",
    "                                                           average='weighted')))\n",
    "print(\"Recall Score: \\t\\t {0:.4f}\".format(recall_score(y_test,\n",
    "                                                     y_test_pred, \n",
    "                                                     average='weighted')))\n",
    "print(\"F1 Score: \\t\\t {0:.4f}\".format(f1_score(y_test,\n",
    "                                             y_test_pred, \n",
    "                                             average='weighted')))"
   ]
  },
  {
   "cell_type": "code",
   "execution_count": 22,
   "id": "1dfe994b-8915-4884-8b03-4586f0d4578b",
   "metadata": {},
   "outputs": [
    {
     "name": "stdout",
     "output_type": "stream",
     "text": [
      "Fitting 3 folds for each of 42 candidates, totalling 126 fits\n"
     ]
    },
    {
     "data": {
      "text/plain": [
       "GridSearchCV(cv=3, estimator=Pipeline(steps=[('clf', SVC(C=0.5, gamma=0.7))]),\n",
       "             n_jobs=-1,\n",
       "             param_grid={'clf__C': (0.1, 0.25, 0.5, 1, 2, 3),\n",
       "                         'clf__gamma': (0.001, 0.01, 0.1, 0.25, 0.5, 0.75, 1)},\n",
       "             scoring='accuracy', verbose=1)"
      ]
     },
     "execution_count": 22,
     "metadata": {},
     "output_type": "execute_result"
    }
   ],
   "source": [
    "pipeline = Pipeline([('clf',svm.SVC(kernel = 'rbf', C=C, gamma=0.7))])\n",
    "params = {'clf__C':(0.1,0.25,0.5,1,2,3),'clf__gamma':(0.001,0.01,0.1,0.25,0.5,0.75,1)}\n",
    "svm_grid_rbf  = GridSearchCV(pipeline,params,n_jobs=-1,cv=3,verbose=1,scoring='accuracy')\n",
    "svm_grid_rbf.fit(X_train,y_train)"
   ]
  },
  {
   "cell_type": "code",
   "execution_count": 23,
   "id": "d8f51985-2546-4dfd-b886-c35e8928baad",
   "metadata": {},
   "outputs": [
    {
     "name": "stdout",
     "output_type": "stream",
     "text": [
      "clf__C 0.5\n",
      "clf__gamma 0.5\n"
     ]
    }
   ],
   "source": [
    "svm_grid_rbf.best_score_\n",
    "best  = svm_grid_rbf.best_estimator_.get_params()\n",
    "for k in sorted(params.keys()):\n",
    "    print(k,best[k])"
   ]
  },
  {
   "cell_type": "code",
   "execution_count": null,
   "id": "2711846d-798a-43ca-80e4-3e14448f8f1d",
   "metadata": {},
   "outputs": [],
   "source": []
  }
 ],
 "metadata": {
  "kernelspec": {
   "display_name": "Python 3 (ipykernel)",
   "language": "python",
   "name": "python3"
  },
  "language_info": {
   "codemirror_mode": {
    "name": "ipython",
    "version": 3
   },
   "file_extension": ".py",
   "mimetype": "text/x-python",
   "name": "python",
   "nbconvert_exporter": "python",
   "pygments_lexer": "ipython3",
   "version": "3.9.13"
  }
 },
 "nbformat": 4,
 "nbformat_minor": 5
}
