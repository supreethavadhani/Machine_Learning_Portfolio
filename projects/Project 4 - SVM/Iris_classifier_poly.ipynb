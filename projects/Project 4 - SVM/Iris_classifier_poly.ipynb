{
 "cells": [
  {
   "cell_type": "markdown",
   "id": "b5dae0f6-3f4d-4077-9218-1302282e574c",
   "metadata": {},
   "source": [
    "# Iris Classifier"
   ]
  },
  {
   "cell_type": "markdown",
   "id": "f8d46086-ca3c-435d-ad24-c0a23edff7ac",
   "metadata": {},
   "source": [
    "## Polynomial SVM"
   ]
  },
  {
   "cell_type": "code",
   "execution_count": 10,
   "id": "404b5e90-4867-41c5-bd15-d547b6287941",
   "metadata": {},
   "outputs": [],
   "source": [
    "import numpy as np\n",
    "import pandas as pd\n",
    "import seaborn as sns\n",
    "import matplotlib.pyplot as plt\n",
    "sns.set(color_codes=True)\n",
    "%matplotlib inline\n",
    "from sklearn import svm\n",
    "from sklearn.model_selection import train_test_split\n",
    "from sklearn.preprocessing import StandardScaler\n",
    "from sklearn.model_selection import cross_val_score,cross_val_predict\n",
    "from sklearn.metrics import confusion_matrix\n",
    "from sklearn.metrics import precision_score, recall_score, f1_score"
   ]
  },
  {
   "cell_type": "code",
   "execution_count": 14,
   "id": "19c990ad-3722-4c0a-8f0f-e2793c320f21",
   "metadata": {},
   "outputs": [],
   "source": [
    "df = sns.load_dataset('iris')\n",
    "\n",
    "col = ['petal_length', 'petal_width', 'species']\n",
    "df.loc[:, col].head()\n",
    "col = ['petal_length', 'petal_width']\n",
    "X = df.loc[:,col]\n",
    "\n",
    "species_to_num = { 'setosa':0,'versicolor':1,'virginica':2 }\n",
    "df['tmp'] = df['species'].map(species_to_num)\n",
    "y = df['tmp']\n",
    "\n",
    "C = 0.1\n",
    "X_train,X_test,y_train,y_test = train_test_split(X,y,train_size=0.8,random_state=0)\n",
    "\n",
    "sc_x = StandardScaler()\n",
    "X_std_train = sc_x.fit_transform(X_train)\n",
    "C = 1.0\n",
    "clf = svm.SVC(kernel = 'poly', C=C)\n",
    "clf.fit(X_std_train,y_train)\n",
    "res = cross_val_score(clf,X_std_train,y_train, cv=10, scoring = 'accuracy')"
   ]
  },
  {
   "cell_type": "code",
   "execution_count": 15,
   "id": "a3254ab4-017f-4164-b189-053627f71e73",
   "metadata": {},
   "outputs": [
    {
     "name": "stdout",
     "output_type": "stream",
     "text": [
      "Precision Score: \t 0.9570\n",
      "Recall Score: \t\t 0.9500\n",
      "F1 Score: \t\t 0.9500\n"
     ]
    }
   ],
   "source": [
    "y_train_pred = cross_val_predict(clf, X_std_train, y_train, cv=3)\n",
    "confusion_matrix(y_train, y_train_pred)\n",
    "\n",
    "print(\"Precision Score: \\t {0:.4f}\".format(precision_score(y_train, \n",
    "                                                           y_train_pred, \n",
    "                                                           average='weighted')))\n",
    "print(\"Recall Score: \\t\\t {0:.4f}\".format(recall_score(y_train,\n",
    "                                                     y_train_pred, \n",
    "                                                     average='weighted')))\n",
    "print(\"F1 Score: \\t\\t {0:.4f}\".format(f1_score(y_train,\n",
    "                                             y_train_pred, \n",
    "                                             average='weighted')))"
   ]
  },
  {
   "cell_type": "code",
   "execution_count": 16,
   "id": "93d81646-694c-4598-b939-a4f911c1fd2a",
   "metadata": {},
   "outputs": [
    {
     "name": "stdout",
     "output_type": "stream",
     "text": [
      "Precision Score: \t 0.9187\n",
      "Recall Score: \t\t 0.9000\n",
      "F1 Score: \t\t 0.8885\n"
     ]
    }
   ],
   "source": [
    "y_test_pred = cross_val_predict(clf, sc_x.transform(X_test), y_test, cv=3)\n",
    "\n",
    "confusion_matrix(y_test, y_test_pred)\n",
    "\n",
    "print(\"Precision Score: \\t {0:.4f}\".format(precision_score(y_test, \n",
    "                                                           y_test_pred, \n",
    "                                                           average='weighted')))\n",
    "print(\"Recall Score: \\t\\t {0:.4f}\".format(recall_score(y_test,\n",
    "                                                     y_test_pred, \n",
    "                                                     average='weighted')))\n",
    "print(\"F1 Score: \\t\\t {0:.4f}\".format(f1_score(y_test,\n",
    "                                             y_test_pred, \n",
    "                                             average='weighted')))"
   ]
  },
  {
   "cell_type": "code",
   "execution_count": null,
   "id": "bfe503fb-3d16-4562-8bbf-d4a6c2d3beb6",
   "metadata": {},
   "outputs": [],
   "source": []
  },
  {
   "cell_type": "code",
   "execution_count": null,
   "id": "1c977d79-61a9-4412-acf6-17b9f0693f8d",
   "metadata": {},
   "outputs": [],
   "source": []
  }
 ],
 "metadata": {
  "kernelspec": {
   "display_name": "Python 3 (ipykernel)",
   "language": "python",
   "name": "python3"
  },
  "language_info": {
   "codemirror_mode": {
    "name": "ipython",
    "version": 3
   },
   "file_extension": ".py",
   "mimetype": "text/x-python",
   "name": "python",
   "nbconvert_exporter": "python",
   "pygments_lexer": "ipython3",
   "version": "3.9.13"
  }
 },
 "nbformat": 4,
 "nbformat_minor": 5
}
