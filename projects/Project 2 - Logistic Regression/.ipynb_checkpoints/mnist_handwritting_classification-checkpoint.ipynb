{
 "cells": [
  {
   "cell_type": "markdown",
   "id": "7aad8f53-4028-43ee-9ec4-c0259da1ea81",
   "metadata": {},
   "source": [
    "# MNIST Dataset"
   ]
  },
  {
   "cell_type": "code",
   "execution_count": 110,
   "id": "b559e2e5-8af1-41e4-b246-871af24d3ed8",
   "metadata": {},
   "outputs": [],
   "source": [
    "import numpy as np\n",
    "import sklearn\n",
    "from sklearn.datasets import fetch_openml\n",
    "import pandas as pd\n",
    "from sklearn.linear_model import SGDClassifier\n",
    "from sklearn.metrics import confusion_matrix,precision_score,recall_score"
   ]
  },
  {
   "cell_type": "code",
   "execution_count": 111,
   "id": "3bf714df-e648-418b-80b8-4d242bed6762",
   "metadata": {},
   "outputs": [
    {
     "data": {
      "text/plain": [
       "0        5\n",
       "1        0\n",
       "2        4\n",
       "3        1\n",
       "4        9\n",
       "        ..\n",
       "59995    8\n",
       "59996    3\n",
       "59997    5\n",
       "59998    6\n",
       "59999    8\n",
       "Name: label, Length: 60000, dtype: int64"
      ]
     },
     "execution_count": 111,
     "metadata": {},
     "output_type": "execute_result"
    }
   ],
   "source": [
    "mnist_train = pd.DataFrame(pd.read_csv('mnist_train.csv'))\n",
    "y_train = mnist_train['label']\n",
    "mnist_train = mnist_train.drop('label', axis=1)\n",
    "X_train=mnist_train\n",
    "y_train"
   ]
  },
  {
   "cell_type": "code",
   "execution_count": 112,
   "id": "16a2fc47-8f03-4c6d-9c14-fd4b828640ce",
   "metadata": {},
   "outputs": [],
   "source": [
    "mnist_test = pd.DataFrame(pd.read_csv('mnist_test.csv'))\n",
    "y_test = mnist_test['label']\n",
    "mnist_test = mnist_test.drop('label', axis=1)\n",
    "X_test=mnist_test"
   ]
  },
  {
   "cell_type": "code",
   "execution_count": 113,
   "id": "c6c4cfc6-ab61-4d37-a57e-64c3f5f68f3d",
   "metadata": {},
   "outputs": [],
   "source": [
    "ytrain_0 = (y_train == 0)\n",
    "ytest_0 = (y_test == 0)"
   ]
  },
  {
   "cell_type": "code",
   "execution_count": 114,
   "id": "373e4149-2c2b-483a-b58f-fa2880fb103c",
   "metadata": {},
   "outputs": [],
   "source": [
    "sgd = SGDClassifier(random_state = 0)\n",
    "sgd.fit(X_train,ytrain_0)\n",
    "y_predit_train = sgd.predict(X_train)"
   ]
  },
  {
   "cell_type": "code",
   "execution_count": 115,
   "id": "1e051eb2-0997-4880-a60f-54cfbbbbdd30",
   "metadata": {},
   "outputs": [
    {
     "data": {
      "text/plain": [
       "array([False, False, False, ..., False, False, False])"
      ]
     },
     "execution_count": 115,
     "metadata": {},
     "output_type": "execute_result"
    }
   ],
   "source": [
    "y_predit_train\n",
    "y_predict_test = sgd.predict(X_test)\n",
    "y_predict_test"
   ]
  },
  {
   "cell_type": "markdown",
   "id": "9264646d-59cc-488f-ab6e-39840e1ee998",
   "metadata": {},
   "source": [
    "## Scoring "
   ]
  },
  {
   "cell_type": "code",
   "execution_count": 116,
   "id": "6555e31d-ecd4-44e3-ba8a-737b1a917206",
   "metadata": {},
   "outputs": [
    {
     "data": {
      "text/plain": [
       "array([[8969,   51],\n",
       "       [  42,  938]])"
      ]
     },
     "execution_count": 116,
     "metadata": {},
     "output_type": "execute_result"
    }
   ],
   "source": [
    "confusion_matrix(ytrain_0,y_predit_train)\n",
    "confusion_matrix(ytest_0,y_predict_test)"
   ]
  },
  {
   "cell_type": "code",
   "execution_count": 117,
   "id": "d104a848-028f-45b1-84fa-82f05b70d38c",
   "metadata": {},
   "outputs": [
    {
     "name": "stdout",
     "output_type": "stream",
     "text": [
      "0.9652575731644704\n"
     ]
    },
    {
     "data": {
      "text/plain": [
       "0.948432760364004"
      ]
     },
     "execution_count": 117,
     "metadata": {},
     "output_type": "execute_result"
    }
   ],
   "source": [
    "print(precision_score(ytrain_0,y_predit_train))\n",
    "precision_score(ytest_0,y_predict_test)"
   ]
  },
  {
   "cell_type": "code",
   "execution_count": 118,
   "id": "0d366201-108a-490c-9ca0-0e27446eeae5",
   "metadata": {},
   "outputs": [
    {
     "name": "stdout",
     "output_type": "stream",
     "text": [
      "0.9522201587033597\n"
     ]
    },
    {
     "data": {
      "text/plain": [
       "0.9571428571428572"
      ]
     },
     "execution_count": 118,
     "metadata": {},
     "output_type": "execute_result"
    }
   ],
   "source": [
    "print(recall_score(ytrain_0,y_predit_train))\n",
    "recall_score(ytest_0,y_predict_test)"
   ]
  }
 ],
 "metadata": {
  "kernelspec": {
   "display_name": "Python 3 (ipykernel)",
   "language": "python",
   "name": "python3"
  },
  "language_info": {
   "codemirror_mode": {
    "name": "ipython",
    "version": 3
   },
   "file_extension": ".py",
   "mimetype": "text/x-python",
   "name": "python",
   "nbconvert_exporter": "python",
   "pygments_lexer": "ipython3",
   "version": "3.9.13"
  }
 },
 "nbformat": 4,
 "nbformat_minor": 5
}
