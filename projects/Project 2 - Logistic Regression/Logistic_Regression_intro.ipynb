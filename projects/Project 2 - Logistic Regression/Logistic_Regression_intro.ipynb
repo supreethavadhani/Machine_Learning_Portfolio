{
 "cells": [
  {
   "cell_type": "markdown",
   "id": "8db6b25d-1bc8-4826-8ed3-37ad9a8c6062",
   "metadata": {},
   "source": [
    "# Logistic Regression"
   ]
  },
  {
   "cell_type": "code",
   "execution_count": 3,
   "id": "f561a591-71c3-448d-8e6f-ef9aa9d0688e",
   "metadata": {},
   "outputs": [],
   "source": [
    "from sklearn.linear_model import LogisticRegression\n",
    "import numpy as np \n"
   ]
  },
  {
   "cell_type": "code",
   "execution_count": 14,
   "id": "fd3b9c32-04fd-44bb-98c2-ef7f0754df1d",
   "metadata": {},
   "outputs": [
    {
     "data": {
      "text/plain": [
       "array([[0.99853453, 0.00146547],\n",
       "       [0.99740804, 0.00259196],\n",
       "       [0.98643844, 0.01356156],\n",
       "       [0.94830288, 0.05169712],\n",
       "       [0.75430207, 0.24569793],\n",
       "       [0.02307807, 0.97692193],\n",
       "       [0.21456501, 0.78543499],\n",
       "       [0.04771639, 0.95228361],\n",
       "       [0.00766657, 0.99233343],\n",
       "       [0.02199284, 0.97800716]])"
      ]
     },
     "execution_count": 14,
     "metadata": {},
     "output_type": "execute_result"
    }
   ],
   "source": [
    "dataset = [[-2.0011, 0],\n",
    "           [-1.4654, 0],\n",
    "           [0.0965, 0],\n",
    "           [1.3881, 0],\n",
    "           [3.0641, 0],\n",
    "           [7.6275, 1],\n",
    "           [5.3324, 1],\n",
    "           [6.9225, 1],\n",
    "           [8.6754, 1],\n",
    "           [7.6737, 1]]\n",
    "\n",
    "X = np.array(dataset)[:, 0:1]\n",
    "y = np.array(dataset)[:, 1]\n",
    "\n",
    "clf_LR = LogisticRegression(C=1.0, penalty='l2', tol=0.0001, solver=\"lbfgs\")\n",
    "clf_LR.fit(X,y)\n",
    "clf_LR.predict(np.array(5).reshape(-1,1))\n",
    "clf_LR.predict_proba(X)"
   ]
  },
  {
   "cell_type": "code",
   "execution_count": null,
   "id": "ebaa14f5-8277-4708-88ba-564cce66d186",
   "metadata": {},
   "outputs": [],
   "source": []
  }
 ],
 "metadata": {
  "kernelspec": {
   "display_name": "Python 3 (ipykernel)",
   "language": "python",
   "name": "python3"
  },
  "language_info": {
   "codemirror_mode": {
    "name": "ipython",
    "version": 3
   },
   "file_extension": ".py",
   "mimetype": "text/x-python",
   "name": "python",
   "nbconvert_exporter": "python",
   "pygments_lexer": "ipython3",
   "version": "3.9.16"
  }
 },
 "nbformat": 4,
 "nbformat_minor": 5
}
