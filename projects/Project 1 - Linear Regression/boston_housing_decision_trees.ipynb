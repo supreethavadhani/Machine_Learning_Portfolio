{
 "cells": [
  {
   "cell_type": "markdown",
   "id": "364a7341-277e-4c6c-8d50-acacbd82be2c",
   "metadata": {
    "tags": []
   },
   "source": [
    "# Non-Linear Relationships"
   ]
  },
  {
   "cell_type": "markdown",
   "id": "acb1b8df-4654-4bd6-aa26-e47d951fa441",
   "metadata": {},
   "source": [
    "## Decision Trees"
   ]
  },
  {
   "cell_type": "code",
   "execution_count": 3,
   "id": "42179016-2e6d-4e46-891b-12e09e8c9782",
   "metadata": {},
   "outputs": [],
   "source": [
    "import numpy as np\n",
    "import pandas as pd\n",
    "import sklearn\n",
    "import seaborn as sns\n",
    "import sys\n",
    "import matplotlib.pyplot as plt \n",
    "from sklearn.tree import DecisionTreeRegressor\n",
    "from sklearn.metrics import r2_score\n",
    "from sklearn.model_selection import train_test_split"
   ]
  },
  {
   "cell_type": "code",
   "execution_count": 4,
   "id": "4782d13e-c4f0-4d64-9479-0ae56b0802bd",
   "metadata": {},
   "outputs": [
    {
     "name": "stdout",
     "output_type": "stream",
     "text": [
      "0.7258749329661913\n",
      "0.592810100130491\n"
     ]
    }
   ],
   "source": [
    "bd = pd.read_csv('Boston.csv')\n",
    "bd = bd.loc[:, ~bd.columns.str.contains('^Unnamed')]\n",
    "y = bd['medv'].values\n",
    "bd = bd.drop('medv', axis=1)\n",
    "X = bd[['lstat']].values\n",
    "\n",
    "X_train,X_test,y_train,y_test = train_test_split(X,y,test_size = 0.3,random_state = 42)\n",
    "tree = DecisionTreeRegressor(max_depth = 3)\n",
    "tree.fit(X_train,y_train)\n",
    "\n",
    "y_train_predict = tree.predict(X_train)\n",
    "y_test_predict = tree.predict(X_test)\n",
    "\n",
    "print(r2_score(y_train,y_train_predict))\n",
    "print(r2_score(y_test,y_test_predict))"
   ]
  },
  {
   "cell_type": "markdown",
   "id": "b8aaee3b-bbc0-4ac5-b2b6-cc114af12c5d",
   "metadata": {},
   "source": [
    "## Random Forest "
   ]
  },
  {
   "cell_type": "code",
   "execution_count": 71,
   "id": "84897104-62ff-47e2-83a1-4503d7f3a9d8",
   "metadata": {},
   "outputs": [],
   "source": [
    "from sklearn.model_selection import train_test_split\n",
    "from sklearn.ensemble import RandomForestRegressor"
   ]
  },
  {
   "cell_type": "code",
   "execution_count": 72,
   "id": "099dfd2a-da00-43a1-976e-bc0692f70d60",
   "metadata": {},
   "outputs": [
    {
     "name": "stdout",
     "output_type": "stream",
     "text": [
      "0.9787304240496506\n",
      "0.873609179623281\n"
     ]
    }
   ],
   "source": [
    "X = bd.values\n",
    "X_train,X_test,y_train,y_test = train_test_split(X,y,test_size = 0.3,random_state = 42)\n",
    "forest = RandomForestRegressor(n_estimators = 500, criterion = 'friedman_mse')\n",
    "forest.fit(X_train,y_train)\n",
    "y_train_predict = forest.predict(X_train)\n",
    "y_test_predict = forest.predict(X_test)\n",
    "print(r2_score(y_train,y_train_predict))\n",
    "print(r2_score(y_test,y_test_predict))"
   ]
  },
  {
   "cell_type": "markdown",
   "id": "56459a6f-9093-4597-a21f-65e618105a97",
   "metadata": {},
   "source": [
    "## Feature Importances"
   ]
  },
  {
   "cell_type": "code",
   "execution_count": 73,
   "id": "4bbaab1e-0fbd-4dd5-8d97-e963b4c40542",
   "metadata": {},
   "outputs": [
    {
     "data": {
      "text/plain": [
       "<AxesSubplot: >"
      ]
     },
     "execution_count": 73,
     "metadata": {},
     "output_type": "execute_result"
    },
    {
     "data": {
      "image/png": "[encoded data removed]",
      "text/plain": [
       "<Figure size 640x480 with 1 Axes>"
      ]
     },
     "metadata": {},
     "output_type": "display_data"
    }
   ],
   "source": [
    "forest.feature_importances_\n",
    "result = pd.DataFrame(forest.feature_importances_,bd.columns)\n",
    "result.columns = ['Feature']\n",
    "result.sort_values(by=\"Feature\", ascending = False).plot(kind=\"bar\")\n"
   ]
  },
  {
   "cell_type": "code",
   "execution_count": null,
   "id": "fb1d10ed-f443-46e3-84d5-f9a608a582bb",
   "metadata": {},
   "outputs": [],
   "source": []
  },
  {
   "cell_type": "code",
   "execution_count": null,
   "id": "8b1427c2-4805-42eb-9c7c-5d8ee0ed8e37",
   "metadata": {},
   "outputs": [],
   "source": []
  },
  {
   "cell_type": "code",
   "execution_count": null,
   "id": "08f58fc4-6c6f-42a9-ba3f-60fd46d003f0",
   "metadata": {},
   "outputs": [],
   "source": []
  }
 ],
 "metadata": {
  "kernelspec": {
   "display_name": "Python 3 (ipykernel)",
   "language": "python",
   "name": "python3"
  },
  "language_info": {
   "codemirror_mode": {
    "name": "ipython",
    "version": 3
   },
   "file_extension": ".py",
   "mimetype": "text/x-python",
   "name": "python",
   "nbconvert_exporter": "python",
   "pygments_lexer": "ipython3",
   "version": "3.9.16"
  }
 },
 "nbformat": 4,
 "nbformat_minor": 5
}
