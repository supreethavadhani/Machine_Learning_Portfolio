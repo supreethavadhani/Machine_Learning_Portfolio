{
 "cells": [
  {
   "cell_type": "markdown",
   "id": "80accd7e-dced-4e34-8b80-21f5c6869a4c",
   "metadata": {},
   "source": [
    "# Boston Housing Cross-Validation"
   ]
  },
  {
   "cell_type": "code",
   "execution_count": 10,
   "id": "c321708c-adb5-4f7a-a859-7abe1c518ad9",
   "metadata": {},
   "outputs": [],
   "source": [
    "import numpy as np\n",
    "import pandas as pd\n",
    "import sklearn\n",
    "import seaborn as sns\n",
    "import sys\n",
    "import matplotlib.pyplot as plt \n",
    "from sklearn.model_selection import train_test_split\n",
    "from sklearn import svm"
   ]
  },
  {
   "cell_type": "code",
   "execution_count": 11,
   "id": "a1832d89-9db8-44fc-9267-e12df977ef2a",
   "metadata": {},
   "outputs": [],
   "source": [
    "bd = pd.read_csv('Boston.csv')\n",
    "bd = bd.loc[:, ~bd.columns.str.contains('^Unnamed')]\n",
    "y = bd['medv'].values\n",
    "X = bd.drop('medv', axis=1)"
   ]
  },
  {
   "cell_type": "code",
   "execution_count": 13,
   "id": "88f3f1de-fc58-4713-908d-fd04a0b1a523",
   "metadata": {
    "tags": []
   },
   "outputs": [
    {
     "data": {
      "text/plain": [
       "0.6674306943408028"
      ]
     },
     "execution_count": 13,
     "metadata": {},
     "output_type": "execute_result"
    }
   ],
   "source": [
    "X_train,X_test,y_train,y_test = train_test_split(X,y,test_size = 0.4, random_state = 0)\n",
    "regression = svm.SVR(kernel='linear',C=1).fit(X_train,y_train)\n",
    "regression.score(X_test,y_test)"
   ]
  },
  {
   "cell_type": "code",
   "execution_count": 18,
   "id": "3ea62a6a-7b73-488d-a80d-f717c74c55d6",
   "metadata": {
    "tags": []
   },
   "outputs": [
    {
     "data": {
      "text/plain": [
       "array([0.77279739, 0.72778206, 0.56131914, 0.15056404, 0.08212111])"
      ]
     },
     "execution_count": 18,
     "metadata": {},
     "output_type": "execute_result"
    }
   ],
   "source": [
    "from sklearn.model_selection import cross_val_score\n",
    "regression = svm.SVR(kernel='linear',C=1)\n",
    "score = cross_val_score(regression,X,y,cv=5)\n",
    "score"
   ]
  },
  {
   "cell_type": "code",
   "execution_count": 26,
   "id": "a9e303e9-6aa7-4611-ad86-ff4647fb02f7",
   "metadata": {},
   "outputs": [
    {
     "name": "stdout",
     "output_type": "stream",
     "text": [
      "Accuracy = 0.4589167485258591\n",
      "Error rate = 0.08367044109200024\n"
     ]
    }
   ],
   "source": [
    "print(\"Accuracy =\",score.mean())\n",
    "print(\"Error rate =\", score.std()**2)"
   ]
  },
  {
   "cell_type": "code",
   "execution_count": null,
   "id": "16065649-cd9c-49ec-9d6f-69256314c168",
   "metadata": {},
   "outputs": [],
   "source": []
  }
 ],
 "metadata": {
  "kernelspec": {
   "display_name": "Python 3 (ipykernel)",
   "language": "python",
   "name": "python3"
  },
  "language_info": {
   "codemirror_mode": {
    "name": "ipython",
    "version": 3
   },
   "file_extension": ".py",
   "mimetype": "text/x-python",
   "name": "python",
   "nbconvert_exporter": "python",
   "pygments_lexer": "ipython3",
   "version": "3.9.16"
  }
 },
 "nbformat": 4,
 "nbformat_minor": 5
}
