{
 "cells": [
  {
   "cell_type": "markdown",
   "id": "35167a9f-5b3e-455f-8db3-2ac683010ed0",
   "metadata": {},
   "source": [
    "# Bagging Machine Learning Algorithm"
   ]
  },
  {
   "cell_type": "code",
   "execution_count": 20,
   "id": "9e1a35dc-9fa8-4d8b-a96c-b3194c930126",
   "metadata": {},
   "outputs": [],
   "source": [
    "import numpy as np\n",
    "import seaborn as sns\n",
    "import matplotlib.pyplot as plt\n",
    "%matplotlib inline\n",
    "import pandas as pd\n",
    "from sklearn import preprocessing"
   ]
  },
  {
   "cell_type": "markdown",
   "id": "a4e81acb-04d6-45f5-ad45-816abe358d43",
   "metadata": {
    "tags": []
   },
   "source": [
    "## Data Pre-processing "
   ]
  },
  {
   "cell_type": "code",
   "execution_count": 21,
   "id": "da7825c2-7f7d-4cd4-8882-322edbcdd727",
   "metadata": {},
   "outputs": [],
   "source": [
    "df = sns.load_dataset('titanic')\n",
    "subset = df[['pclass', 'sex', 'age', 'survived']].copy()\n",
    "subset.dropna(inplace=True)\n",
    "X = subset[['pclass', 'sex', 'age']].copy()\n",
    "le = preprocessing.LabelEncoder()\n",
    "X['sex'] = le.fit_transform(subset['sex'])\n",
    "y = subset['survived'].copy()"
   ]
  },
  {
   "cell_type": "markdown",
   "id": "2893273c-b81a-4019-88d0-64f703ab0f64",
   "metadata": {},
   "source": [
    "## Scoring function"
   ]
  },
  {
   "cell_type": "code",
   "execution_count": 22,
   "id": "59bb6eba-e545-4e2b-907a-86ad2a0aefab",
   "metadata": {},
   "outputs": [],
   "source": [
    "from sklearn.tree import DecisionTreeClassifier\n",
    "from sklearn.ensemble import BaggingClassifier\n",
    "from sklearn.model_selection import train_test_split"
   ]
  },
  {
   "cell_type": "code",
   "execution_count": 23,
   "id": "c42fd026-9dd6-4543-923f-3a47b44c202d",
   "metadata": {},
   "outputs": [],
   "source": [
    "X_train, X_test, y_train, y_test = train_test_split(X, y, test_size=0.3)"
   ]
  },
  {
   "cell_type": "code",
   "execution_count": 24,
   "id": "a09b0012-5a81-489b-b3bf-295acf0763f5",
   "metadata": {},
   "outputs": [],
   "source": [
    "from sklearn import preprocessing\n",
    "from sklearn.model_selection import cross_val_score, cross_val_predict\n",
    "from sklearn.metrics import accuracy_score, classification_report\n",
    "from sklearn.metrics import confusion_matrix, roc_auc_score\n",
    "def print_score(clf, X_train, X_test, y_train, y_test, train=True):\n",
    "    '''\n",
    "    v0.1 Follow the scikit learn library format in terms of input\n",
    "    print the accuracy score, classification report and confusion matrix of classifier\n",
    "    '''\n",
    "    lb = preprocessing.LabelBinarizer()\n",
    "    lb.fit(y_train)\n",
    "    if train:\n",
    "        '''\n",
    "        training performance\n",
    "        '''\n",
    "        res = clf.predict(X_train)\n",
    "        print(\"Train Result:\\n\")\n",
    "        print(\"accuracy score: {0:.4f}\\n\".format(accuracy_score(y_train, \n",
    "                                                                res)))\n",
    "        print(\"Classification Report: \\n {}\\n\".format(classification_report(y_train, \n",
    "                                                                            res)))\n",
    "        print(\"Confusion Matrix: \\n {}\\n\".format(confusion_matrix(y_train, \n",
    "                                                                  res)))\n",
    "        print(\"ROC AUC: {0:.4f}\\n\".format(roc_auc_score(lb.transform(y_train), \n",
    "                                                      lb.transform(res))))\n",
    "\n",
    "        res = cross_val_score(clf, X_train, y_train, cv=10, scoring='accuracy')\n",
    "        print(\"Average Accuracy: \\t {0:.4f}\".format(np.mean(res)))\n",
    "        print(\"Accuracy SD: \\t\\t {0:.4f}\".format(np.std(res)))\n",
    "        \n",
    "    elif train==False:\n",
    "        '''\n",
    "        test performance\n",
    "        '''\n",
    "        res_test = clf.predict(X_test)\n",
    "        print(\"Test Result:\\n\")        \n",
    "        print(\"accuracy score: {0:.4f}\\n\".format(accuracy_score(y_test, \n",
    "                                                                res_test)))\n",
    "        print(\"Classification Report: \\n {}\\n\".format(classification_report(y_test, \n",
    "                                                                            res_test)))\n",
    "        print(\"Confusion Matrix: \\n {}\\n\".format(confusion_matrix(y_test, \n",
    "                                                                  res_test)))   \n",
    "        print(\"ROC AUC: {0:.4f}\\n\".format(roc_auc_score(lb.transform(y_test), \n",
    "                                                      lb.transform(res_test))))\n",
    "        "
   ]
  },
  {
   "cell_type": "markdown",
   "id": "15650220-5a56-44fc-8e19-92300bc6d978",
   "metadata": {},
   "source": [
    "## Decsion Tree "
   ]
  },
  {
   "cell_type": "code",
   "execution_count": 25,
   "id": "4bfe0087-9775-499f-b3ee-830f0bd03b08",
   "metadata": {},
   "outputs": [
    {
     "name": "stdout",
     "output_type": "stream",
     "text": [
      "Train Result:\n",
      "\n",
      "accuracy score: 0.9078\n",
      "\n",
      "Classification Report: \n",
      "               precision    recall  f1-score   support\n",
      "\n",
      "           0       0.88      0.97      0.93       297\n",
      "           1       0.95      0.81      0.88       202\n",
      "\n",
      "    accuracy                           0.91       499\n",
      "   macro avg       0.92      0.89      0.90       499\n",
      "weighted avg       0.91      0.91      0.91       499\n",
      "\n",
      "\n",
      "Confusion Matrix: \n",
      " [[289   8]\n",
      " [ 38 164]]\n",
      "\n",
      "ROC AUC: 0.8925\n",
      "\n",
      "Average Accuracy: \t 0.7795\n",
      "Accuracy SD: \t\t 0.0287\n",
      "\n",
      "********************************\n",
      "\n",
      "Test Result:\n",
      "\n",
      "accuracy score: 0.8093\n",
      "\n",
      "Classification Report: \n",
      "               precision    recall  f1-score   support\n",
      "\n",
      "           0       0.79      0.92      0.85       127\n",
      "           1       0.85      0.65      0.74        88\n",
      "\n",
      "    accuracy                           0.81       215\n",
      "   macro avg       0.82      0.78      0.79       215\n",
      "weighted avg       0.82      0.81      0.80       215\n",
      "\n",
      "\n",
      "Confusion Matrix: \n",
      " [[117  10]\n",
      " [ 31  57]]\n",
      "\n",
      "ROC AUC: 0.7845\n",
      "\n"
     ]
    }
   ],
   "source": [
    "clf = DecisionTreeClassifier(random_state=42)\n",
    "clf.fit(X_train, y_train)\n",
    "print_score(clf, X_train, X_test, y_train, y_test, train=True)\n",
    "print(\"\\n********************************\\n\")\n",
    "print_score(clf, X_train, X_test, y_train, y_test, train=False)"
   ]
  },
  {
   "cell_type": "markdown",
   "id": "b2f4c0c5-9892-442c-9cb7-807c72fe9b2a",
   "metadata": {},
   "source": [
    "## Bagging"
   ]
  },
  {
   "cell_type": "code",
   "execution_count": 26,
   "id": "6d063bc6-0496-4bce-88d9-14fe25ff711c",
   "metadata": {},
   "outputs": [
    {
     "name": "stdout",
     "output_type": "stream",
     "text": [
      "Train Result:\n",
      "\n",
      "accuracy score: 0.9078\n",
      "\n",
      "Classification Report: \n",
      "               precision    recall  f1-score   support\n",
      "\n",
      "           0       0.88      0.97      0.93       297\n",
      "           1       0.95      0.81      0.88       202\n",
      "\n",
      "    accuracy                           0.91       499\n",
      "   macro avg       0.92      0.89      0.90       499\n",
      "weighted avg       0.91      0.91      0.91       499\n",
      "\n",
      "\n",
      "Confusion Matrix: \n",
      " [[289   8]\n",
      " [ 38 164]]\n",
      "\n",
      "ROC AUC: 0.8925\n",
      "\n",
      "Average Accuracy: \t 0.7795\n",
      "Accuracy SD: \t\t 0.0287\n",
      "\n",
      "********************************\n",
      "\n",
      "Test Result:\n",
      "\n",
      "accuracy score: 0.8093\n",
      "\n",
      "Classification Report: \n",
      "               precision    recall  f1-score   support\n",
      "\n",
      "           0       0.79      0.92      0.85       127\n",
      "           1       0.85      0.65      0.74        88\n",
      "\n",
      "    accuracy                           0.81       215\n",
      "   macro avg       0.82      0.78      0.79       215\n",
      "weighted avg       0.82      0.81      0.80       215\n",
      "\n",
      "\n",
      "Confusion Matrix: \n",
      " [[117  10]\n",
      " [ 31  57]]\n",
      "\n",
      "ROC AUC: 0.7845\n",
      "\n"
     ]
    }
   ],
   "source": [
    "bag_clf = BaggingClassifier(estimator=clf, n_estimators=1000,\n",
    "                            bootstrap=True, oob_score=True,\n",
    "                            n_jobs=-1, random_state=42)\n",
    "bag_clf.fit(X_train, y_train)\n",
    "bag_clf.oob_score_\n",
    "print_score(clf, X_train, X_test, y_train, y_test, train=True)\n",
    "print(\"\\n********************************\\n\")\n",
    "print_score(clf, X_train, X_test, y_train, y_test, train=False)"
   ]
  },
  {
   "cell_type": "code",
   "execution_count": null,
   "id": "424a879a-33ee-45d5-ae30-c1632c8e81fb",
   "metadata": {},
   "outputs": [],
   "source": []
  }
 ],
 "metadata": {
  "kernelspec": {
   "display_name": "Python 3 (ipykernel)",
   "language": "python",
   "name": "python3"
  },
  "language_info": {
   "codemirror_mode": {
    "name": "ipython",
    "version": 3
   },
   "file_extension": ".py",
   "mimetype": "text/x-python",
   "name": "python",
   "nbconvert_exporter": "python",
   "pygments_lexer": "ipython3",
   "version": "3.9.16"
  }
 },
 "nbformat": 4,
 "nbformat_minor": 5
}
